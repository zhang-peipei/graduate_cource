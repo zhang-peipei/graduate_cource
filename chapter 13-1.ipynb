{
 "cells": [
  {
   "cell_type": "code",
   "execution_count": 1,
   "metadata": {},
   "outputs": [
    {
     "data": {
      "text/plain": [
       "array([0.47994251, 0.81926008, 0.35461698, 0.91438841, 0.17067259,\n",
       "       0.50568327, 0.70798178, 0.88209185, 0.89526557, 0.41724607])"
      ]
     },
     "execution_count": 1,
     "metadata": {},
     "output_type": "execute_result"
    }
   ],
   "source": [
    "import numpy as np\n",
    "import matplotlib.pyplot as plt\n",
    "from scipy import stats\n",
    "from scipy import optimize\n",
    "import seaborn as sns\n",
    "sns.set(style=\"whitegrid\")\n",
    "a=np.random.rand(10)\n",
    "a"
   ]
  },
  {
   "cell_type": "code",
   "execution_count": 2,
   "metadata": {},
   "outputs": [
    {
     "data": {
      "text/plain": [
       "array([ 9.57863290e-02,  5.05406203e-01, -2.44089821e-01,  7.92716631e-01,\n",
       "        9.11065044e-01, -5.22367832e-01, -2.24919347e-01,  2.05223573e-01,\n",
       "       -4.48488150e-01,  1.17435207e+00,  6.39324818e-01,  3.45641475e-01,\n",
       "       -2.16398358e-03,  3.80446594e-01,  1.65743074e+00,  1.07894975e-01,\n",
       "        1.93942029e+00, -2.13979810e+00,  1.88328688e+00, -3.53756906e-01,\n",
       "       -5.47129088e-01, -5.35134919e-01,  1.27031120e+00, -4.46957787e-01,\n",
       "        6.11244622e-01,  1.07071967e-01,  5.18091132e-01,  5.19195523e-01,\n",
       "        3.09563297e-01,  3.29103508e-01, -7.32632826e-01,  3.41440156e-01,\n",
       "       -7.38316241e-01, -4.05123291e-01, -1.78164860e+00, -4.93894817e-01,\n",
       "       -7.86270412e-01, -6.49341845e-02,  8.76231551e-01, -1.50650409e+00,\n",
       "        1.04293582e+00, -2.82150509e-01,  2.13299255e-01,  4.12106400e-01,\n",
       "       -2.66800601e-01,  5.00587219e-01,  2.23309340e+00,  1.49904095e+00,\n",
       "       -2.08745524e+00,  1.84984174e+00, -8.53709646e-01,  1.15285688e+00,\n",
       "        6.36783633e-01,  8.21643937e-02,  3.69693412e-01, -1.25630432e+00,\n",
       "        1.49871737e-01,  9.71228139e-01,  1.40093004e+00,  5.38561642e-01,\n",
       "        1.87857421e-01,  3.29302120e-01, -9.51763074e-02, -1.52184716e-01,\n",
       "       -3.63683730e-01,  2.13670702e+00, -1.64885894e-01,  1.07331160e+00,\n",
       "       -1.42033106e+00,  1.13096783e+00, -1.62025659e+00, -5.68103404e-01,\n",
       "       -8.20870925e-02, -1.25077502e+00,  1.23885277e+00,  1.13285483e+00,\n",
       "       -1.46027300e+00,  2.73412145e-01, -4.31422981e-01, -1.43459084e+00,\n",
       "       -1.28036242e+00,  1.64764236e+00, -8.94576509e-01, -1.16717619e+00,\n",
       "       -2.10650012e+00,  1.50335932e+00, -1.06593752e+00, -1.46581982e+00,\n",
       "        1.33890395e+00,  1.68920079e-01, -3.63793258e-01, -8.13747080e-02,\n",
       "        5.58462102e-02, -8.69792160e-01, -2.90952398e-01,  6.76585581e-01,\n",
       "       -9.60026740e-02,  1.14348530e+00, -1.67748106e+00,  1.23298871e-01,\n",
       "       -1.26800121e-01,  9.27068585e-02,  1.53161097e+00,  5.89740514e-01,\n",
       "       -1.49011903e+00, -6.92803627e-01, -3.58653337e-01,  6.42078703e-01,\n",
       "        1.48579824e+00,  1.33145544e+00,  7.06036429e-02,  1.76792204e+00,\n",
       "        1.10345269e+00,  4.66949976e-01,  1.97778884e-02,  1.67846951e+00,\n",
       "        1.26772474e+00, -5.14034857e-01, -2.86620062e-01,  1.71530310e-01,\n",
       "        1.32018605e+00, -2.95818677e-01, -1.38210737e+00, -5.00112748e-01,\n",
       "        1.05051332e+00, -1.31720734e-01,  1.51394928e+00,  4.18570104e-01,\n",
       "       -1.05473382e-01,  1.00082361e-01, -2.35671720e+00, -1.46816976e+00,\n",
       "       -8.65876889e-01, -3.05367254e+00, -1.00050817e-01, -3.94145671e-01,\n",
       "        2.16239230e-01,  7.57242651e-01,  9.38792325e-01, -8.63915760e-01,\n",
       "        2.19680665e-01,  4.66081416e-01, -1.24872843e+00,  2.36947534e-01,\n",
       "        2.40781367e-01, -9.30180799e-01,  1.13371712e+00, -1.05976355e+00,\n",
       "        2.92146986e-01,  1.50293599e+00, -2.12846622e+00, -5.51798265e-01,\n",
       "        9.05265124e-01, -4.23405763e-01, -2.84287284e-02,  2.52532645e-01,\n",
       "       -3.90723617e-01,  1.55187773e-01, -1.09471115e+00, -1.12330797e+00,\n",
       "        9.29702765e-01, -6.30900559e-01, -4.22636457e-01,  1.63209782e+00,\n",
       "        1.76434340e+00,  1.27893538e-01, -9.53465113e-01, -7.08240853e-01,\n",
       "       -1.24397800e+00,  2.13916591e+00, -1.35552719e+00, -1.25695636e+00,\n",
       "        1.20016207e+00, -6.36190741e-01,  4.07609808e-01, -4.29874148e-01,\n",
       "       -2.49119143e-01, -2.05269277e-01,  1.34097034e+00,  8.73358143e-01,\n",
       "        8.50302721e-01, -3.40797690e-03, -4.51382162e-01,  7.16596711e-02,\n",
       "        1.24488576e+00,  1.41060758e-01,  1.35318955e+00, -1.09972085e+00,\n",
       "        8.66787745e-01,  7.72782185e-01,  2.43215400e+00,  2.01042428e-01,\n",
       "        4.87713756e-02, -1.13624448e+00, -1.04884710e-01, -5.87935946e-01,\n",
       "        6.74429394e-01,  8.64587361e-01, -1.71348372e+00, -1.08101317e+00])"
      ]
     },
     "execution_count": 2,
     "metadata": {},
     "output_type": "execute_result"
    }
   ],
   "source": [
    "\n",
    "a=np.random.randn(200)\n",
    "a"
   ]
  },
  {
   "cell_type": "code",
   "execution_count": 3,
   "metadata": {},
   "outputs": [
    {
     "data": {
      "text/plain": [
       "(array([ 1,  5, 11, 22, 31, 49, 30, 28, 18,  5]),\n",
       " array([-3.05367254, -2.50508989, -1.95650723, -1.40792458, -0.85934192,\n",
       "        -0.31075927,  0.23782338,  0.78640604,  1.33498869,  1.88357135,\n",
       "         2.432154  ]))"
      ]
     },
     "execution_count": 3,
     "metadata": {},
     "output_type": "execute_result"
    }
   ],
   "source": [
    "np.histogram(a)"
   ]
  },
  {
   "cell_type": "code",
   "execution_count": 4,
   "metadata": {},
   "outputs": [],
   "source": [
    "value,bins=np.histogram(a)\n"
   ]
  },
  {
   "cell_type": "code",
   "execution_count": 5,
   "metadata": {},
   "outputs": [
    {
     "data": {
      "text/plain": [
       "[<matplotlib.lines.Line2D at 0x7f76ad97bc88>]"
      ]
     },
     "execution_count": 5,
     "metadata": {},
     "output_type": "execute_result"
    },
    {
     "data": {
      "image/png": "[encoded data removed]",
      "text/plain": [
       "<Figure size 432x288 with 1 Axes>"
      ]
     },
     "metadata": {
      "needs_background": "light"
     },
     "output_type": "display_data"
    }
   ],
   "source": [
    "plt.plot(bins[:-1],value)"
   ]
  },
  {
   "cell_type": "code",
   "execution_count": 6,
   "metadata": {},
   "outputs": [],
   "source": [
    "x=np.array([3.5, 1.1, 3.2, 2.8, 6.7, 4.4, 0.9, 2.2])"
   ]
  },
  {
   "cell_type": "code",
   "execution_count": 7,
   "metadata": {},
   "outputs": [
    {
     "data": {
      "text/plain": [
       "3.1"
      ]
     },
     "execution_count": 7,
     "metadata": {},
     "output_type": "execute_result"
    }
   ],
   "source": [
    "np.mean(x)"
   ]
  },
  {
   "cell_type": "code",
   "execution_count": 8,
   "metadata": {},
   "outputs": [
    {
     "data": {
      "text/plain": [
       "3.0"
      ]
     },
     "execution_count": 8,
     "metadata": {},
     "output_type": "execute_result"
    }
   ],
   "source": [
    "np.median(x)  #中位数"
   ]
  },
  {
   "cell_type": "code",
   "execution_count": 9,
   "metadata": {},
   "outputs": [
    {
     "data": {
      "text/plain": [
       "3.1"
      ]
     },
     "execution_count": 9,
     "metadata": {},
     "output_type": "execute_result"
    }
   ],
   "source": [
    "x.mean()"
   ]
  },
  {
   "cell_type": "code",
   "execution_count": 10,
   "metadata": {},
   "outputs": [
    {
     "data": {
      "text/plain": [
       "0.9"
      ]
     },
     "execution_count": 10,
     "metadata": {},
     "output_type": "execute_result"
    }
   ],
   "source": [
    "np.min(x)"
   ]
  },
  {
   "cell_type": "code",
   "execution_count": 11,
   "metadata": {},
   "outputs": [
    {
     "data": {
      "text/plain": [
       "0.9"
      ]
     },
     "execution_count": 11,
     "metadata": {},
     "output_type": "execute_result"
    }
   ],
   "source": [
    "x.min()"
   ]
  },
  {
   "cell_type": "code",
   "execution_count": 12,
   "metadata": {},
   "outputs": [
    {
     "data": {
      "text/plain": [
       "(0.9, 6.7)"
      ]
     },
     "execution_count": 12,
     "metadata": {},
     "output_type": "execute_result"
    }
   ],
   "source": [
    "x.min(),x.max()"
   ]
  },
  {
   "cell_type": "code",
   "execution_count": 13,
   "metadata": {},
   "outputs": [
    {
     "data": {
      "text/plain": [
       "3.0700000000000007"
      ]
     },
     "execution_count": 13,
     "metadata": {},
     "output_type": "execute_result"
    }
   ],
   "source": [
    "x.var()   #方差"
   ]
  },
  {
   "cell_type": "code",
   "execution_count": 14,
   "metadata": {},
   "outputs": [
    {
     "data": {
      "text/plain": [
       "1.7521415467935233"
      ]
     },
     "execution_count": 14,
     "metadata": {},
     "output_type": "execute_result"
    }
   ],
   "source": [
    "x.std()     #标准偏差"
   ]
  },
  {
   "cell_type": "code",
   "execution_count": 15,
   "metadata": {},
   "outputs": [
    {
     "data": {
      "text/plain": [
       "3.0700000000000003"
      ]
     },
     "execution_count": 15,
     "metadata": {},
     "output_type": "execute_result"
    }
   ],
   "source": [
    "_**2.0"
   ]
  },
  {
   "cell_type": "code",
   "execution_count": 16,
   "metadata": {},
   "outputs": [
    {
     "data": {
      "text/plain": [
       "9.424900000000001"
      ]
     },
     "execution_count": 16,
     "metadata": {},
     "output_type": "execute_result"
    }
   ],
   "source": [
    "_**2.0"
   ]
  },
  {
   "cell_type": "code",
   "execution_count": 17,
   "metadata": {},
   "outputs": [
    {
     "data": {
      "text/plain": [
       "0.3282277016780506"
      ]
     },
     "execution_count": 17,
     "metadata": {},
     "output_type": "execute_result"
    }
   ],
   "source": [
    "np.random.rand()"
   ]
  },
  {
   "cell_type": "code",
   "execution_count": 18,
   "metadata": {},
   "outputs": [
    {
     "data": {
      "text/plain": [
       "-0.5242579811151563"
      ]
     },
     "execution_count": 18,
     "metadata": {},
     "output_type": "execute_result"
    }
   ],
   "source": [
    "np.random.randn()"
   ]
  },
  {
   "cell_type": "code",
   "execution_count": 19,
   "metadata": {},
   "outputs": [
    {
     "data": {
      "text/plain": [
       "array([[ 1.12977418, -0.66860905, -0.71427222, -0.19052527],\n",
       "       [-0.02519694, -0.7829099 , -1.90066485,  1.64583177]])"
      ]
     },
     "execution_count": 19,
     "metadata": {},
     "output_type": "execute_result"
    }
   ],
   "source": [
    "np.random.randn(2, 4)"
   ]
  },
  {
   "cell_type": "code",
   "execution_count": 20,
   "metadata": {},
   "outputs": [
    {
     "data": {
      "text/plain": [
       "array([7, 9, 1, 5, 8, 7, 9, 6, 5, 9])"
      ]
     },
     "execution_count": 20,
     "metadata": {},
     "output_type": "execute_result"
    }
   ],
   "source": [
    "np.random.randint(10, size=10)"
   ]
  },
  {
   "cell_type": "code",
   "execution_count": 21,
   "metadata": {},
   "outputs": [
    {
     "data": {
      "text/plain": [
       "array([[15, 11, 17, 18, 19, 17, 11, 17, 11, 17],\n",
       "       [15, 10, 17, 13, 17, 19, 16, 14, 13, 12]])"
      ]
     },
     "execution_count": 21,
     "metadata": {},
     "output_type": "execute_result"
    }
   ],
   "source": [
    "np.random.randint(low=10, high=20, size=(2, 10))"
   ]
  },
  {
   "cell_type": "code",
   "execution_count": 22,
   "metadata": {},
   "outputs": [
    {
     "data": {
      "text/plain": [
       "Text(0.5, 1.0, 'randint(low=1, high=10)')"
      ]
     },
     "execution_count": 22,
     "metadata": {},
     "output_type": "execute_result"
    },
    {
     "data": {
      "image/png": "[encoded data removed]",
      "text/plain": [
       "<Figure size 864x216 with 3 Axes>"
      ]
     },
     "metadata": {
      "needs_background": "light"
     },
     "output_type": "display_data"
    }
   ],
   "source": [
    "fig,axes=plt.subplots(1,3,figsize=(12,3))\n",
    "axes[0].hist(np.random.rand(10000))\n",
    "axes[0].set_title(\"rand\")\n",
    "axes[1].hist(np.random.randn(10000))\n",
    "axes[1].set_title(\"randn\")\n",
    "axes[2].hist(np.random.randint(low=1, high=10, size=10000),\n",
    "bins=9, align='left')\n",
    "axes[2].set_title(\"randint(low=1, high=10)\")"
   ]
  },
  {
   "cell_type": "code",
   "execution_count": 23,
   "metadata": {},
   "outputs": [
    {
     "data": {
      "text/plain": [
       "Text(0.5, 1.0, 'randint(low=1, high=10)')"
      ]
     },
     "execution_count": 23,
     "metadata": {},
     "output_type": "execute_result"
    },
    {
     "data": {
      "image/png": "[encoded data removed]",
      "text/plain": [
       "<Figure size 864x216 with 3 Axes>"
      ]
     },
     "metadata": {
      "needs_background": "light"
     },
     "output_type": "display_data"
    }
   ],
   "source": [
    "fig,axes=plt.subplots(1,3,figsize=(12,3))\n",
    "axes[0].hist(np.random.rand(10000))\n",
    "axes[0].set_title(\"rand\")\n",
    "axes[1].hist(20.0*np.random.randn(10000)+10.0)\n",
    "axes[1].set_title(\"randn\")\n",
    "axes[2].hist(np.random.randint(low=1, high=10, size=10000),\n",
    "bins=9, align='left')\n",
    "axes[2].set_title(\"randint(low=1, high=10)\")"
   ]
  },
  {
   "cell_type": "code",
   "execution_count": 24,
   "metadata": {},
   "outputs": [
    {
     "data": {
      "text/plain": [
       "(array([56., 47., 40., 39., 48., 40., 38., 36., 54., 52.]),\n",
       " array([2.59925487e-04, 9.99478888e-02, 1.99635852e-01, 2.99323815e-01,\n",
       "        3.99011779e-01, 4.98699742e-01, 5.98387705e-01, 6.98075669e-01,\n",
       "        7.97763632e-01, 8.97451595e-01, 9.97139558e-01]),\n",
       " <a list of 10 Patch objects>)"
      ]
     },
     "execution_count": 24,
     "metadata": {},
     "output_type": "execute_result"
    },
    {
     "data": {
      "image/png": "[encoded data removed]",
      "text/plain": [
       "<Figure size 864x216 with 3 Axes>"
      ]
     },
     "metadata": {
      "needs_background": "light"
     },
     "output_type": "display_data"
    }
   ],
   "source": [
    "fig,axes=plt.subplots(1,3,figsize=(12,3))\n",
    "axes[0].hist(np.random.rand(2000))\n",
    "axes[1].hist(np.random.rand(500))\n",
    "axes[2].hist(np.random.rand(450))"
   ]
  },
  {
   "cell_type": "code",
   "execution_count": 25,
   "metadata": {},
   "outputs": [
    {
     "data": {
      "text/plain": [
       "(array([ 7., 32., 62., 88., 87., 91., 52., 17.,  9.,  5.]),\n",
       " array([-2.55239453, -1.99835033, -1.44430613, -0.89026193, -0.33621773,\n",
       "         0.21782647,  0.77187067,  1.32591487,  1.87995907,  2.43400328,\n",
       "         2.98804748]),\n",
       " <a list of 10 Patch objects>)"
      ]
     },
     "execution_count": 25,
     "metadata": {},
     "output_type": "execute_result"
    },
    {
     "data": {
      "image/png": "[encoded data removed]",
      "text/plain": [
       "<Figure size 864x216 with 3 Axes>"
      ]
     },
     "metadata": {
      "needs_background": "light"
     },
     "output_type": "display_data"
    }
   ],
   "source": [
    "fig,axes=plt.subplots(1,3,figsize=(12,3))\n",
    "axes[0].hist(np.random.randn(2000))\n",
    "axes[1].hist(np.random.randn(500))\n",
    "axes[2].hist(np.random.randn(450))"
   ]
  },
  {
   "cell_type": "code",
   "execution_count": 26,
   "metadata": {},
   "outputs": [
    {
     "data": {
      "text/plain": [
       "0.14767555758429696"
      ]
     },
     "execution_count": 26,
     "metadata": {},
     "output_type": "execute_result"
    }
   ],
   "source": [
    "np.random.rand()"
   ]
  },
  {
   "cell_type": "code",
   "execution_count": 27,
   "metadata": {},
   "outputs": [
    {
     "data": {
      "text/plain": [
       "array([0.19151945, 0.62210877, 0.43772774, 0.78535858, 0.77997581,\n",
       "       0.27259261, 0.27646426, 0.80187218, 0.95813935, 0.87593263,\n",
       "       0.35781727, 0.50099513, 0.68346294, 0.71270203, 0.37025075,\n",
       "       0.56119619, 0.50308317, 0.01376845, 0.77282662, 0.88264119,\n",
       "       0.36488598, 0.61539618, 0.07538124, 0.36882401, 0.9331401 ,\n",
       "       0.65137814, 0.39720258, 0.78873014, 0.31683612, 0.56809865,\n",
       "       0.86912739, 0.43617342, 0.80214764, 0.14376682, 0.70426097,\n",
       "       0.70458131, 0.21879211, 0.92486763, 0.44214076, 0.90931596,\n",
       "       0.05980922, 0.18428708, 0.04735528, 0.67488094, 0.59462478,\n",
       "       0.53331016, 0.04332406, 0.56143308, 0.32966845, 0.50296683,\n",
       "       0.11189432, 0.60719371, 0.56594464, 0.00676406, 0.61744171,\n",
       "       0.91212289, 0.79052413, 0.99208147, 0.95880176, 0.79196414,\n",
       "       0.28525096, 0.62491671, 0.4780938 , 0.19567518, 0.38231745,\n",
       "       0.05387369, 0.45164841, 0.98200474, 0.1239427 , 0.1193809 ,\n",
       "       0.73852306, 0.58730363, 0.47163253, 0.10712682, 0.22921857,\n",
       "       0.89996519, 0.41675354, 0.53585166, 0.00620852, 0.30064171,\n",
       "       0.43689317, 0.612149  , 0.91819808, 0.62573667, 0.70599757,\n",
       "       0.14983372, 0.74606341, 0.83100699, 0.63372577, 0.43830988,\n",
       "       0.15257277, 0.56840962, 0.52822428, 0.95142876, 0.48035918,\n",
       "       0.50255956, 0.53687819, 0.81920207, 0.05711564, 0.66942174])"
      ]
     },
     "execution_count": 27,
     "metadata": {},
     "output_type": "execute_result"
    }
   ],
   "source": [
    "np.random.seed(1234)\n",
    "np.random.rand(100)"
   ]
  },
  {
   "cell_type": "code",
   "execution_count": 63,
   "metadata": {},
   "outputs": [],
   "source": [
    "a=np.random.randn(10000)"
   ]
  },
  {
   "cell_type": "code",
   "execution_count": 64,
   "metadata": {},
   "outputs": [
    {
     "data": {
      "text/plain": [
       "array([-0.16113691,  0.88915749,  0.28837685, ...,  0.82256739,\n",
       "       -1.16153022, -0.25134446])"
      ]
     },
     "execution_count": 64,
     "metadata": {},
     "output_type": "execute_result"
    }
   ],
   "source": [
    "a"
   ]
  },
  {
   "cell_type": "code",
   "execution_count": 65,
   "metadata": {},
   "outputs": [
    {
     "data": {
      "image/png": "[encoded data removed]",
      "text/plain": [
       "<Figure size 720x432 with 1 Axes>"
      ]
     },
     "metadata": {
      "needs_background": "light"
     },
     "output_type": "display_data"
    }
   ],
   "source": [
    "fig,axes=plt.subplots(1,1,figsize=(10,6))"
   ]
  },
  {
   "cell_type": "code",
   "execution_count": 66,
   "metadata": {},
   "outputs": [
    {
     "data": {
      "text/plain": [
       "(array([   4.,    6.,   14.,   41.,  108.,  245.,  429.,  630., 1013.,\n",
       "        1285., 1427., 1372., 1217.,  883.,  614.,  390.,  212.,   72.,\n",
       "          31.,    7.]),\n",
       " array([-3.88089841, -3.5224641 , -3.16402978, -2.80559547, -2.44716115,\n",
       "        -2.08872683, -1.73029252, -1.3718582 , -1.01342389, -0.65498957,\n",
       "        -0.29655526,  0.06187906,  0.42031337,  0.77874769,  1.137182  ,\n",
       "         1.49561632,  1.85405064,  2.21248495,  2.57091927,  2.92935358,\n",
       "         3.2877879 ]),\n",
       " <a list of 20 Patch objects>)"
      ]
     },
     "execution_count": 66,
     "metadata": {},
     "output_type": "execute_result"
    },
    {
     "data": {
      "image/png": "[encoded data removed]",
      "text/plain": [
       "<Figure size 432x288 with 1 Axes>"
      ]
     },
     "metadata": {
      "needs_background": "light"
     },
     "output_type": "display_data"
    }
   ],
   "source": [
    "plt.hist(a,20)"
   ]
  },
  {
   "cell_type": "code",
   "execution_count": 67,
   "metadata": {},
   "outputs": [],
   "source": [
    "histvalue,histbin=np.histogram(a)"
   ]
  },
  {
   "cell_type": "code",
   "execution_count": 68,
   "metadata": {},
   "outputs": [
    {
     "data": {
      "text/plain": [
       "array([-3.88089841, -3.16402978, -2.44716115, -1.73029252, -1.01342389,\n",
       "       -0.29655526,  0.42031337,  1.137182  ,  1.85405064,  2.57091927,\n",
       "        3.2877879 ])"
      ]
     },
     "execution_count": 68,
     "metadata": {},
     "output_type": "execute_result"
    }
   ],
   "source": [
    "histbin"
   ]
  },
  {
   "cell_type": "code",
   "execution_count": 69,
   "metadata": {},
   "outputs": [
    {
     "data": {
      "text/plain": [
       "array([  10,   55,  353, 1059, 2298, 2799, 2100, 1004,  284,   38])"
      ]
     },
     "execution_count": 69,
     "metadata": {},
     "output_type": "execute_result"
    }
   ],
   "source": [
    "histvalue"
   ]
  },
  {
   "cell_type": "code",
   "execution_count": 70,
   "metadata": {},
   "outputs": [
    {
     "data": {
      "text/plain": [
       "11"
      ]
     },
     "execution_count": 70,
     "metadata": {},
     "output_type": "execute_result"
    }
   ],
   "source": [
    "len(histbin)"
   ]
  },
  {
   "cell_type": "code",
   "execution_count": 71,
   "metadata": {},
   "outputs": [
    {
     "data": {
      "text/plain": [
       "10"
      ]
     },
     "execution_count": 71,
     "metadata": {},
     "output_type": "execute_result"
    }
   ],
   "source": [
    "len(histvalue)"
   ]
  },
  {
   "cell_type": "code",
   "execution_count": 72,
   "metadata": {},
   "outputs": [],
   "source": [
    "histvalue,histbin=np.histogram(a,bins=20)"
   ]
  },
  {
   "cell_type": "code",
   "execution_count": 73,
   "metadata": {},
   "outputs": [
    {
     "data": {
      "text/plain": [
       "array([-3.88089841, -3.5224641 , -3.16402978, -2.80559547, -2.44716115,\n",
       "       -2.08872683, -1.73029252, -1.3718582 , -1.01342389, -0.65498957,\n",
       "       -0.29655526,  0.06187906,  0.42031337,  0.77874769,  1.137182  ,\n",
       "        1.49561632,  1.85405064,  2.21248495,  2.57091927,  2.92935358,\n",
       "        3.2877879 ])"
      ]
     },
     "execution_count": 73,
     "metadata": {},
     "output_type": "execute_result"
    }
   ],
   "source": [
    "histbin\n"
   ]
  },
  {
   "cell_type": "code",
   "execution_count": 74,
   "metadata": {},
   "outputs": [
    {
     "data": {
      "text/plain": [
       "array([   4,    6,   14,   41,  108,  245,  429,  630, 1013, 1285, 1427,\n",
       "       1372, 1217,  883,  614,  390,  212,   72,   31,    7])"
      ]
     },
     "execution_count": 74,
     "metadata": {},
     "output_type": "execute_result"
    }
   ],
   "source": [
    "histvalue"
   ]
  },
  {
   "cell_type": "code",
   "execution_count": 60,
   "metadata": {},
   "outputs": [],
   "source": [
    "#histvalue,histbin=np.histogram(a,bins=[-2,-1,0,1,2])"
   ]
  },
  {
   "cell_type": "code",
   "execution_count": 75,
   "metadata": {},
   "outputs": [
    {
     "data": {
      "text/plain": [
       "[<matplotlib.lines.Line2D at 0x7f76ace615c0>]"
      ]
     },
     "execution_count": 75,
     "metadata": {},
     "output_type": "execute_result"
    },
    {
     "data": {
      "image/png": "[encoded data removed]",
      "text/plain": [
       "<Figure size 432x288 with 1 Axes>"
      ]
     },
     "metadata": {
      "needs_background": "light"
     },
     "output_type": "display_data"
    }
   ],
   "source": [
    "plt.plot(histbin[:-1],histvalue)"
   ]
  },
  {
   "cell_type": "code",
   "execution_count": 76,
   "metadata": {},
   "outputs": [
    {
     "data": {
      "text/plain": [
       "<matplotlib.collections.PathCollection at 0x7f76ace467b8>"
      ]
     },
     "execution_count": 76,
     "metadata": {},
     "output_type": "execute_result"
    },
    {
     "data": {
      "image/png": "[encoded data removed]",
      "text/plain": [
       "<Figure size 432x288 with 1 Axes>"
      ]
     },
     "metadata": {
      "needs_background": "light"
     },
     "output_type": "display_data"
    }
   ],
   "source": [
    "plt.scatter(histbin[:-1],histvalue)"
   ]
  },
  {
   "cell_type": "code",
   "execution_count": 77,
   "metadata": {},
   "outputs": [],
   "source": [
    "histvalue=np.concatenate(([histvalue[0]],histvalue))"
   ]
  },
  {
   "cell_type": "code",
   "execution_count": 78,
   "metadata": {},
   "outputs": [
    {
     "data": {
      "text/plain": [
       "[<matplotlib.lines.Line2D at 0x7f76acda4710>]"
      ]
     },
     "execution_count": 78,
     "metadata": {},
     "output_type": "execute_result"
    },
    {
     "data": {
      "image/png": "[encoded data removed]",
      "text/plain": [
       "<Figure size 432x288 with 1 Axes>"
      ]
     },
     "metadata": {
      "needs_background": "light"
     },
     "output_type": "display_data"
    }
   ],
   "source": [
    "plt.plot(histbin,histvalue,ls='steps')"
   ]
  },
  {
   "cell_type": "code",
   "execution_count": null,
   "metadata": {},
   "outputs": [],
   "source": []
  }
 ],
 "metadata": {
  "kernelspec": {
   "display_name": "Python 3",
   "language": "python",
   "name": "python3"
  },
  "language_info": {
   "codemirror_mode": {
    "name": "ipython",
    "version": 3
   },
   "file_extension": ".py",
   "mimetype": "text/x-python",
   "name": "python",
   "nbconvert_exporter": "python",
   "pygments_lexer": "ipython3",
   "version": "3.6.7"
  }
 },
 "nbformat": 4,
 "nbformat_minor": 2
}
