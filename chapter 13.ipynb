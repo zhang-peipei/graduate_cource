{
 "cells": [
  {
   "cell_type": "code",
   "execution_count": 20,
   "metadata": {},
   "outputs": [
    {
     "data": {
      "text/plain": [
       "array([0.64065969, 0.71818964, 0.23700979, 0.2570675 , 0.33645103,\n",
       "       0.14069707, 0.15311146, 0.59340575, 0.02033502, 0.52537935])"
      ]
     },
     "execution_count": 20,
     "metadata": {},
     "output_type": "execute_result"
    }
   ],
   "source": [
    "import numpy as np\n",
    "import matplotlib.pyplot as plt\n",
    "from scipy import stats\n",
    "from scipy import optimize\n",
    "import seaborn as sns\n",
    "sns.set(style=\"whitegrid\")\n",
    "a=np.random.rand(10)\n",
    "a"
   ]
  },
  {
   "cell_type": "code",
   "execution_count": 21,
   "metadata": {},
   "outputs": [
    {
     "data": {
      "text/plain": [
       "array([-2.20097449, -2.34084893,  0.2300052 , -0.79942074, -1.0968388 ,\n",
       "       -1.05017141,  0.39437539,  0.14539963,  1.03331246, -1.16633722,\n",
       "       -1.36266716, -0.30283425, -0.05914435,  3.05846976,  2.31601614,\n",
       "       -0.19011763, -0.80328736, -0.12727885,  0.42168419, -0.63100416,\n",
       "        1.74329196, -0.17199933,  0.13908488,  0.04942057, -0.89944586,\n",
       "        0.4254759 ,  0.05352316,  0.31329965,  0.71005236, -1.62419544,\n",
       "       -0.78765475,  0.14019408,  0.26341999,  1.34969653,  0.65322262,\n",
       "        0.04011278, -0.1222387 ,  1.04687912, -0.36524549,  0.56036623,\n",
       "        1.78324269, -0.38485021,  0.98786535,  0.92476991,  0.39362932,\n",
       "        0.40716572, -0.36692291,  0.08974368,  2.46302366, -0.63496102,\n",
       "       -0.86069158, -1.42374442, -1.88605416,  0.33928132,  1.85806736,\n",
       "        0.70038938, -0.51937205,  0.56638202,  0.42241495, -0.1285153 ,\n",
       "       -0.01340796, -0.50200408, -0.83077024, -1.00242066, -0.49558282,\n",
       "        2.49636219, -0.62693347,  2.52208775,  0.35745738,  1.93962832,\n",
       "        1.64452299,  0.38089838,  0.13322232,  0.23375964,  0.38205879,\n",
       "        0.7519988 , -0.3121924 , -0.98599969,  1.40299217,  0.47514186,\n",
       "       -0.75691112,  0.55642951, -0.05257635, -1.54589326,  1.44386204,\n",
       "       -0.26322193,  1.31905381,  0.21961606,  0.34972484, -0.58589783,\n",
       "       -0.44030153, -0.06155906, -0.90520748, -1.32381536,  1.18090414,\n",
       "        0.12316319,  0.62397979,  0.52808787,  0.23885369,  1.17484097,\n",
       "       -0.36059193,  0.34841434, -0.15405378,  0.60917175,  0.18930175,\n",
       "        0.72899702,  0.09136309,  2.09509307,  0.70062016, -1.59005276,\n",
       "        1.31637113,  0.20426843, -0.26698038,  0.44589386,  0.96614323,\n",
       "       -0.83287393,  0.75012025, -0.89975396,  0.95590017, -0.59314503,\n",
       "       -0.8973755 , -1.21252162,  0.5221981 , -0.35240381,  1.05774473,\n",
       "        1.34456462,  0.63326503,  0.82125704, -0.33588326, -1.87456238,\n",
       "        0.06695915,  1.15079219, -0.15287093,  2.63191471,  0.57082804,\n",
       "       -0.34499542, -1.52137252,  0.63843018,  1.24661988, -0.39920943,\n",
       "       -0.46647553, -0.30312669, -0.73239615, -1.63904178,  0.17200781,\n",
       "       -0.35509229,  1.49538825, -0.50094136,  0.75636269,  1.13380616,\n",
       "        1.61595727,  0.30409275,  0.59978915,  0.39932613,  1.29404804,\n",
       "       -0.29879357, -0.64298275,  0.28629268,  0.26342184,  0.31434737,\n",
       "       -1.06165102, -0.32434104, -0.13174119, -0.18776397,  0.18469348,\n",
       "        1.40748422, -0.49522691,  1.10436488, -0.36220637, -1.98330614,\n",
       "        1.24300135, -0.15465316, -0.94877155, -0.77738356,  0.1502268 ,\n",
       "        0.93302459, -0.41206371,  0.39018356,  0.95278226, -1.5007072 ,\n",
       "       -1.41286178,  0.61306403, -0.09389335,  0.23250653,  1.41057267,\n",
       "        2.57080369,  1.06012908,  0.00882421, -0.12179858, -0.89098578,\n",
       "       -1.13068937, -0.29002936, -1.59787129, -0.27430558,  1.13480514,\n",
       "       -0.97615513, -1.83350707, -1.42641481, -0.85672849,  0.16354078])"
      ]
     },
     "execution_count": 21,
     "metadata": {},
     "output_type": "execute_result"
    }
   ],
   "source": [
    "a=np.random.randn(200)\n",
    "a"
   ]
  },
  {
   "cell_type": "code",
   "execution_count": 22,
   "metadata": {},
   "outputs": [
    {
     "data": {
      "text/plain": [
       "(array([ 6, 12, 25, 35, 47, 33, 26,  8,  4,  4]),\n",
       " array([-2.34084893, -1.80091706, -1.26098519, -0.72105332, -0.18112145,\n",
       "         0.35881042,  0.89874229,  1.43867416,  1.97860603,  2.5185379 ,\n",
       "         3.05846976]))"
      ]
     },
     "execution_count": 22,
     "metadata": {},
     "output_type": "execute_result"
    }
   ],
   "source": [
    "np.histogram(a)"
   ]
  },
  {
   "cell_type": "code",
   "execution_count": 23,
   "metadata": {},
   "outputs": [],
   "source": [
    "value,bins=np.histogram(a)\n"
   ]
  },
  {
   "cell_type": "code",
   "execution_count": 24,
   "metadata": {},
   "outputs": [
    {
     "data": {
      "text/plain": [
       "[<matplotlib.lines.Line2D at 0x7fafa0d48d30>]"
      ]
     },
     "execution_count": 24,
     "metadata": {},
     "output_type": "execute_result"
    },
    {
     "data": {
      "image/png": "[encoded data removed]",
      "text/plain": [
       "<Figure size 432x288 with 1 Axes>"
      ]
     },
     "metadata": {},
     "output_type": "display_data"
    }
   ],
   "source": [
    "plt.plot(bins[:-1],value)"
   ]
  },
  {
   "cell_type": "code",
   "execution_count": 25,
   "metadata": {},
   "outputs": [],
   "source": [
    "x=np.array([3.5, 1.1, 3.2, 2.8, 6.7, 4.4, 0.9, 2.2])"
   ]
  },
  {
   "cell_type": "code",
   "execution_count": 26,
   "metadata": {},
   "outputs": [
    {
     "data": {
      "text/plain": [
       "3.1"
      ]
     },
     "execution_count": 26,
     "metadata": {},
     "output_type": "execute_result"
    }
   ],
   "source": [
    "np.mean(x)"
   ]
  },
  {
   "cell_type": "code",
   "execution_count": 27,
   "metadata": {},
   "outputs": [
    {
     "data": {
      "text/plain": [
       "3.0"
      ]
     },
     "execution_count": 27,
     "metadata": {},
     "output_type": "execute_result"
    }
   ],
   "source": [
    "np.median(x)  #中位数"
   ]
  },
  {
   "cell_type": "code",
   "execution_count": 28,
   "metadata": {},
   "outputs": [
    {
     "data": {
      "text/plain": [
       "3.1"
      ]
     },
     "execution_count": 28,
     "metadata": {},
     "output_type": "execute_result"
    }
   ],
   "source": [
    "x.mean()"
   ]
  },
  {
   "cell_type": "code",
   "execution_count": 29,
   "metadata": {},
   "outputs": [
    {
     "data": {
      "text/plain": [
       "0.9"
      ]
     },
     "execution_count": 29,
     "metadata": {},
     "output_type": "execute_result"
    }
   ],
   "source": [
    "np.min(x)"
   ]
  },
  {
   "cell_type": "code",
   "execution_count": 30,
   "metadata": {},
   "outputs": [
    {
     "data": {
      "text/plain": [
       "0.9"
      ]
     },
     "execution_count": 30,
     "metadata": {},
     "output_type": "execute_result"
    }
   ],
   "source": [
    "x.min()"
   ]
  },
  {
   "cell_type": "code",
   "execution_count": 31,
   "metadata": {},
   "outputs": [
    {
     "data": {
      "text/plain": [
       "(0.9, 6.7)"
      ]
     },
     "execution_count": 31,
     "metadata": {},
     "output_type": "execute_result"
    }
   ],
   "source": [
    "x.min(),x.max()"
   ]
  },
  {
   "cell_type": "code",
   "execution_count": 32,
   "metadata": {},
   "outputs": [
    {
     "data": {
      "text/plain": [
       "3.0700000000000007"
      ]
     },
     "execution_count": 32,
     "metadata": {},
     "output_type": "execute_result"
    }
   ],
   "source": [
    "x.var()   #方差"
   ]
  },
  {
   "cell_type": "code",
   "execution_count": 33,
   "metadata": {},
   "outputs": [
    {
     "data": {
      "text/plain": [
       "1.7521415467935233"
      ]
     },
     "execution_count": 33,
     "metadata": {},
     "output_type": "execute_result"
    }
   ],
   "source": [
    "x.std()     #标准偏差"
   ]
  },
  {
   "cell_type": "code",
   "execution_count": 34,
   "metadata": {},
   "outputs": [
    {
     "data": {
      "text/plain": [
       "3.0700000000000003"
      ]
     },
     "execution_count": 34,
     "metadata": {},
     "output_type": "execute_result"
    }
   ],
   "source": [
    "_**2.0"
   ]
  },
  {
   "cell_type": "code",
   "execution_count": 35,
   "metadata": {},
   "outputs": [
    {
     "data": {
      "text/plain": [
       "9.424900000000001"
      ]
     },
     "execution_count": 35,
     "metadata": {},
     "output_type": "execute_result"
    }
   ],
   "source": [
    "_**2.0"
   ]
  },
  {
   "cell_type": "code",
   "execution_count": 36,
   "metadata": {},
   "outputs": [
    {
     "data": {
      "text/plain": [
       "0.4881271419412905"
      ]
     },
     "execution_count": 36,
     "metadata": {},
     "output_type": "execute_result"
    }
   ],
   "source": [
    "np.random.rand()"
   ]
  },
  {
   "cell_type": "code",
   "execution_count": 37,
   "metadata": {},
   "outputs": [
    {
     "data": {
      "text/plain": [
       "0.9634693263484423"
      ]
     },
     "execution_count": 37,
     "metadata": {},
     "output_type": "execute_result"
    }
   ],
   "source": [
    "np.random.randn()"
   ]
  },
  {
   "cell_type": "code",
   "execution_count": 38,
   "metadata": {},
   "outputs": [
    {
     "data": {
      "text/plain": [
       "array([[ 0.35302979,  1.45395978, -0.09684607,  1.19991648],\n",
       "       [ 0.18075959, -0.71087536, -0.09898861, -0.50143074]])"
      ]
     },
     "execution_count": 38,
     "metadata": {},
     "output_type": "execute_result"
    }
   ],
   "source": [
    "np.random.randn(2, 4)"
   ]
  },
  {
   "cell_type": "code",
   "execution_count": 39,
   "metadata": {},
   "outputs": [
    {
     "data": {
      "text/plain": [
       "array([2, 2, 9, 0, 7, 3, 7, 0, 7, 7])"
      ]
     },
     "execution_count": 39,
     "metadata": {},
     "output_type": "execute_result"
    }
   ],
   "source": [
    "np.random.randint(10, size=10)"
   ]
  },
  {
   "cell_type": "code",
   "execution_count": 40,
   "metadata": {},
   "outputs": [
    {
     "data": {
      "text/plain": [
       "array([[12, 17, 16, 14, 18, 18, 15, 18, 13, 17],\n",
       "       [11, 18, 11, 14, 13, 12, 13, 13, 18, 19]])"
      ]
     },
     "execution_count": 40,
     "metadata": {},
     "output_type": "execute_result"
    }
   ],
   "source": [
    "np.random.randint(low=10, high=20, size=(2, 10))"
   ]
  },
  {
   "cell_type": "code",
   "execution_count": 41,
   "metadata": {},
   "outputs": [
    {
     "data": {
      "text/plain": [
       "Text(0.5, 1.0, 'randint(low=1, high=10)')"
      ]
     },
     "execution_count": 41,
     "metadata": {},
     "output_type": "execute_result"
    },
    {
     "data": {
      "image/png": "[encoded data removed]",
      "text/plain": [
       "<Figure size 864x216 with 3 Axes>"
      ]
     },
     "metadata": {},
     "output_type": "display_data"
    }
   ],
   "source": [
    "fig,axes=plt.subplots(1,3,figsize=(12,3))\n",
    "axes[0].hist(np.random.rand(10000))\n",
    "axes[0].set_title(\"rand\")\n",
    "axes[1].hist(np.random.randn(10000))\n",
    "axes[1].set_title(\"randn\")\n",
    "axes[2].hist(np.random.randint(low=1, high=10, size=10000),\n",
    "bins=9, align='left')\n",
    "axes[2].set_title(\"randint(low=1, high=10)\")"
   ]
  },
  {
   "cell_type": "code",
   "execution_count": 52,
   "metadata": {},
   "outputs": [
    {
     "data": {
      "text/plain": [
       "Text(0.5, 1.0, 'randint(low=1, high=10)')"
      ]
     },
     "execution_count": 52,
     "metadata": {},
     "output_type": "execute_result"
    },
    {
     "data": {
      "image/png": "[encoded data removed]",
      "text/plain": [
       "<Figure size 864x216 with 3 Axes>"
      ]
     },
     "metadata": {},
     "output_type": "display_data"
    }
   ],
   "source": [
    "fig,axes=plt.subplots(1,3,figsize=(12,3))\n",
    "axes[0].hist(np.random.rand(10000))\n",
    "axes[0].set_title(\"rand\")\n",
    "axes[1].hist(20.0*np.random.randn(10000)+10.0)\n",
    "axes[1].set_title(\"randn\")\n",
    "axes[2].hist(np.random.randint(low=1, high=10, size=10000),\n",
    "bins=9, align='left')\n",
    "axes[2].set_title(\"randint(low=1, high=10)\")"
   ]
  },
  {
   "cell_type": "code",
   "execution_count": 59,
   "metadata": {},
   "outputs": [
    {
     "data": {
      "text/plain": [
       "(array([41., 47., 47., 52., 34., 54., 44., 42., 48., 41.]),\n",
       " array([0.00814779, 0.10732341, 0.20649904, 0.30567466, 0.40485029,\n",
       "        0.50402591, 0.60320154, 0.70237717, 0.80155279, 0.90072842,\n",
       "        0.99990404]),\n",
       " <a list of 10 Patch objects>)"
      ]
     },
     "execution_count": 59,
     "metadata": {},
     "output_type": "execute_result"
    },
    {
     "data": {
      "image/png": "[encoded data removed]",
      "text/plain": [
       "<Figure size 864x216 with 3 Axes>"
      ]
     },
     "metadata": {},
     "output_type": "display_data"
    }
   ],
   "source": [
    "fig,axes=plt.subplots(1,3,figsize=(12,3))\n",
    "axes[0].hist(np.random.rand(2000))\n",
    "axes[1].hist(np.random.rand(500))\n",
    "axes[2].hist(np.random.rand(450))"
   ]
  },
  {
   "cell_type": "code",
   "execution_count": 60,
   "metadata": {},
   "outputs": [
    {
     "data": {
      "text/plain": [
       "(array([ 4., 16., 33., 57., 94., 79., 94., 50., 14.,  9.]),\n",
       " array([-2.89749928, -2.35416424, -1.81082921, -1.26749417, -0.72415913,\n",
       "        -0.1808241 ,  0.36251094,  0.90584598,  1.44918101,  1.99251605,\n",
       "         2.53585109]),\n",
       " <a list of 10 Patch objects>)"
      ]
     },
     "execution_count": 60,
     "metadata": {},
     "output_type": "execute_result"
    },
    {
     "data": {
      "image/png": "[encoded data removed]",
      "text/plain": [
       "<Figure size 864x216 with 3 Axes>"
      ]
     },
     "metadata": {},
     "output_type": "display_data"
    }
   ],
   "source": [
    "fig,axes=plt.subplots(1,3,figsize=(12,3))\n",
    "axes[0].hist(np.random.randn(2000))\n",
    "axes[1].hist(np.random.randn(500))\n",
    "axes[2].hist(np.random.randn(450))"
   ]
  },
  {
   "cell_type": "code",
   "execution_count": 64,
   "metadata": {},
   "outputs": [
    {
     "data": {
      "text/plain": [
       "0.44100460952772436"
      ]
     },
     "execution_count": 64,
     "metadata": {},
     "output_type": "execute_result"
    }
   ],
   "source": [
    "np.random.rand()"
   ]
  },
  {
   "cell_type": "code",
   "execution_count": 67,
   "metadata": {},
   "outputs": [
    {
     "data": {
      "text/plain": [
       "array([0.19151945, 0.62210877, 0.43772774, 0.78535858, 0.77997581,\n",
       "       0.27259261, 0.27646426, 0.80187218, 0.95813935, 0.87593263,\n",
       "       0.35781727, 0.50099513, 0.68346294, 0.71270203, 0.37025075,\n",
       "       0.56119619, 0.50308317, 0.01376845, 0.77282662, 0.88264119,\n",
       "       0.36488598, 0.61539618, 0.07538124, 0.36882401, 0.9331401 ,\n",
       "       0.65137814, 0.39720258, 0.78873014, 0.31683612, 0.56809865,\n",
       "       0.86912739, 0.43617342, 0.80214764, 0.14376682, 0.70426097,\n",
       "       0.70458131, 0.21879211, 0.92486763, 0.44214076, 0.90931596,\n",
       "       0.05980922, 0.18428708, 0.04735528, 0.67488094, 0.59462478,\n",
       "       0.53331016, 0.04332406, 0.56143308, 0.32966845, 0.50296683,\n",
       "       0.11189432, 0.60719371, 0.56594464, 0.00676406, 0.61744171,\n",
       "       0.91212289, 0.79052413, 0.99208147, 0.95880176, 0.79196414,\n",
       "       0.28525096, 0.62491671, 0.4780938 , 0.19567518, 0.38231745,\n",
       "       0.05387369, 0.45164841, 0.98200474, 0.1239427 , 0.1193809 ,\n",
       "       0.73852306, 0.58730363, 0.47163253, 0.10712682, 0.22921857,\n",
       "       0.89996519, 0.41675354, 0.53585166, 0.00620852, 0.30064171,\n",
       "       0.43689317, 0.612149  , 0.91819808, 0.62573667, 0.70599757,\n",
       "       0.14983372, 0.74606341, 0.83100699, 0.63372577, 0.43830988,\n",
       "       0.15257277, 0.56840962, 0.52822428, 0.95142876, 0.48035918,\n",
       "       0.50255956, 0.53687819, 0.81920207, 0.05711564, 0.66942174])"
      ]
     },
     "execution_count": 67,
     "metadata": {},
     "output_type": "execute_result"
    }
   ],
   "source": [
    "np.random.seed(1234)\n",
    "np.random.rand(100)"
   ]
  },
  {
   "cell_type": "code",
   "execution_count": null,
   "metadata": {},
   "outputs": [],
   "source": []
  }
 ],
 "metadata": {
  "kernelspec": {
   "display_name": "Python 3",
   "language": "python",
   "name": "python3"
  },
  "language_info": {
   "codemirror_mode": {
    "name": "ipython",
    "version": 3
   },
   "file_extension": ".py",
   "mimetype": "text/x-python",
   "name": "python",
   "nbconvert_exporter": "python",
   "pygments_lexer": "ipython3",
   "version": "3.6.7"
  }
 },
 "nbformat": 4,
 "nbformat_minor": 2
}
